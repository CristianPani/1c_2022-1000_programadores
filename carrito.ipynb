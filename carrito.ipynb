{
  "nbformat": 4,
  "nbformat_minor": 0,
  "metadata": {
    "colab": {
      "provenance": [],
      "authorship_tag": "ABX9TyPZxPjDQLG8Fir3lS+ocnC0",
      "include_colab_link": true
    },
    "kernelspec": {
      "name": "python3",
      "display_name": "Python 3"
    },
    "language_info": {
      "name": "python"
    }
  },
  "cells": [
    {
      "cell_type": "markdown",
      "metadata": {
        "id": "view-in-github",
        "colab_type": "text"
      },
      "source": [
        "<a href=\"https://colab.research.google.com/github/CristianPani/1c_2022-1000_programadores/blob/main/carrito.ipynb\" target=\"_parent\"><img src=\"https://colab.research.google.com/assets/colab-badge.svg\" alt=\"Open In Colab\"/></a>"
      ]
    },
    {
      "cell_type": "code",
      "execution_count": null,
      "metadata": {
        "id": "Pr7D82VSYWw_"
      },
      "outputs": [],
      "source": [
        "#Agregar articulos\n",
        "#Remover articulos\n",
        "#Ver articulos\n",
        " \n",
        "#creo una lista vacia\n",
        "lista_articulos = list()\n",
        " \n",
        "#funcion para agregar articulos a la lista\n",
        "def agregar_articulos():\n",
        "\tprint()\n",
        "\tprint(\"Favor de agregar tus artículos\")\n",
        "\tprint()\n",
        "\tarticulos = input(\"Agrega tu articulo: \")\n",
        "\t#Utilizo --> string.capitaliza() para convertir la primera letra en mayuscula\n",
        "\tlista_articulos.append(articulos.capitalize())\n",
        "\tprint(\"Articulo agregados\")\n",
        "\tprint()\n",
        " \n",
        "#Funcion para borrar elementos de la lista\n",
        "def borrar_articulos():\n",
        "\tarticulo = input(\"Elementos a eliminar: \")\n",
        "\t#Agrego de nuevo string.capitaliza() para que python no me marque error\n",
        "\tlista_articulos.remove(articulo.capitalize())\n",
        "\tprint(\"El articulo se ha borrado con exito!\")\n",
        " \n",
        " \n",
        "#Funcion para imprimir los artculos de la lista\n",
        "def ver_lista():\n",
        "\t#muestra los articulos en forma de lista de python\n",
        "\t#print(lista_articulos)\n",
        "\tprint()\n",
        "\tprint(\"Articulos en tu lista\")\n",
        "\tprint(\"------------\")\n",
        "\tfor articulos in lista_articulos:\n",
        "\t\tprint(\"------------\")\n",
        "\t\tprint(articulos)\n",
        "\t\tprint(\"------------\")\n",
        "\tprint(\"------------\")\n",
        "\tprint(\"Estos son tus articulos\")\n",
        "\tprint()\n",
        " \n",
        " \n",
        "while  True:\n",
        "\ttry:\n",
        "\t\tprint(\"Menú\")\n",
        "\t\tprint (\"1.- Agregar artículos\")\n",
        "\t\tprint (\"2.- Borrar artículos\")\n",
        "\t\tprint (\"3.- Ver lista de artículos\")\n",
        "\t\tprint (\"4.- Salir\")\n",
        " \n",
        "\t\topcion = int(input(\"Que deseas hacer: \"))\n",
        "\texcept ValueError:\n",
        "\t\tprint(\"Favor de ingresar una opcion valida\")\n",
        "\telse:\n",
        "\t\t#si no es ninguna de las 4 opciones validas\n",
        "\t\tif opcion < 1 or opcion >4:\n",
        "\t\t\t\tprint (\"no es una opcion valida\")\n",
        "\t\t\t\tcontinue\n",
        "\t\tif opcion == 1:\n",
        "\t\t\tagregar_articulos()\n",
        "\t\telif opcion == 2:\n",
        "\t\t\tborrar_articulos()\n",
        "\t\telif opcion == 3:\n",
        "\t\t\tver_lista()\n",
        "\t\telse:\n",
        "\t\t\tbreak\n",
        "print(\"Gracias por comprar en supermark\")"
      ]
    }
  ]
}